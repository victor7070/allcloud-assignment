{
 "cells": [
  {
   "cell_type": "code",
   "execution_count": 1,
   "id": "96aee443-e7b3-4940-93f1-ed5868be794c",
   "metadata": {},
   "outputs": [
    {
     "name": "stderr",
     "output_type": "stream",
     "text": [
      "INFO:root:Started the EXTRACT phase with etl_mode='incremental'\n",
      "INFO:root:Couldn't find any file in data/base/\n",
      "INFO:root:Skipping downloading and unzipping as they are time-consuming\n",
      "INFO:root:Converting excel to csv with pandas\n",
      "INFO:root:Successfully converted file csv_path='data/base/online_retail_2024-10-16-20-11-47.csv'\n",
      "INFO:root:Finished the EXTRACT phase; Got a df with 541909 records \n",
      "\n",
      "INFO:root:Started the TRANSFORM phase\n",
      "INFO:root:Finished the TRANSFORM phase; Got a df with 392729 records \n",
      "\n",
      "INFO:root:Started the LOAD phase\n",
      "INFO:root:Couldn't find any file in data/transformed/\n",
      "INFO:root:Finished the LOAD phase; Got a df with 392729 records \n",
      "\n",
      "INFO:root:Finished ETL job\n"
     ]
    }
   ],
   "source": [
    "from shared import run_etl, INCREMENTAL_MODE, REFRESH_MODE\n",
    "\n",
    "etl_mode = INCREMENTAL_MODE\n",
    "\n",
    "run_etl(etl_mode)"
   ]
  },
  {
   "cell_type": "code",
   "execution_count": 2,
   "id": "a4615ac1-7d0b-4533-bf16-daee259f0eba",
   "metadata": {},
   "outputs": [
    {
     "name": "stderr",
     "output_type": "stream",
     "text": [
      "INFO:root:Started the EXTRACT phase with etl_mode='incremental'\n",
      "INFO:root:The latest csv is data/base/online_retail_2024-10-16-20-11-47.csv\n",
      "INFO:root:Generating a dummy csv\n",
      "INFO:root:Generated a dummy csv csv_path='data/base/online_retail_2024-10-16-20-12-56.csv'\n",
      "INFO:root:Extracting the new/updated records between new and latest file\n",
      "INFO:root:Finished the EXTRACT phase; Got a df with 2 records \n",
      "\n",
      "INFO:root:Started the TRANSFORM phase\n",
      "INFO:root:Finished the TRANSFORM phase; Got a df with 2 records \n",
      "\n",
      "INFO:root:Started the LOAD phase\n",
      "INFO:root:The latest csv is data/transformed/part-00000-fa71898a-bb76-49e6-a9cc-50f3c06c4357-c000.csv\n",
      "INFO:root:Merging output files\n",
      "INFO:root:Finished the LOAD phase; Got a df with 392730 records \n",
      "\n",
      "INFO:root:Finished ETL job\n"
     ]
    }
   ],
   "source": [
    "run_etl(etl_mode)"
   ]
  },
  {
   "cell_type": "code",
   "execution_count": 3,
   "id": "4a6c7cb6-5089-41cd-98d6-758dc7e219cc",
   "metadata": {},
   "outputs": [
    {
     "name": "stderr",
     "output_type": "stream",
     "text": [
      "INFO:root:Started the EXTRACT phase with etl_mode='incremental'\n",
      "INFO:root:The latest csv is data/base/online_retail_2024-10-16-20-12-56.csv\n",
      "INFO:root:Generating a dummy csv\n",
      "INFO:root:Generated a dummy csv csv_path='data/base/online_retail_2024-10-16-20-13-30.csv'\n",
      "INFO:root:Extracting the new/updated records between new and latest file\n",
      "INFO:root:Finished the EXTRACT phase; Got a df with 2 records \n",
      "\n",
      "INFO:root:Started the TRANSFORM phase\n",
      "INFO:root:Finished the TRANSFORM phase; Got a df with 2 records \n",
      "\n",
      "INFO:root:Started the LOAD phase\n",
      "INFO:root:The latest csv is data/transformed/part-00000-ed0ffe86-0e9e-4649-bffe-4b0402c47609-c000.csv\n",
      "INFO:root:Merging output files\n",
      "INFO:root:Finished the LOAD phase; Got a df with 392731 records \n",
      "\n",
      "INFO:root:Finished ETL job\n"
     ]
    }
   ],
   "source": [
    "run_etl(etl_mode)"
   ]
  },
  {
   "cell_type": "code",
   "execution_count": 4,
   "id": "74125389-3c25-4da3-b92b-ad905197883e",
   "metadata": {},
   "outputs": [
    {
     "name": "stderr",
     "output_type": "stream",
     "text": [
      "INFO:root:Started the EXTRACT phase with etl_mode='refresh'\n",
      "INFO:root:Skipping downloading and unzipping as they are time-consuming\n",
      "INFO:root:Converting excel to csv with pandas\n",
      "INFO:root:Successfully converted file csv_path='data/base/online_retail_2024-10-16-20-13-53.csv'\n",
      "INFO:root:Finished the EXTRACT phase; Got a df with 541909 records \n",
      "\n",
      "INFO:root:Started the TRANSFORM phase\n",
      "INFO:root:Finished the TRANSFORM phase; Got a df with 392729 records \n",
      "\n",
      "INFO:root:Started the LOAD phase\n",
      "INFO:root:Finished the LOAD phase; Got a df with 392729 records \n",
      "\n",
      "INFO:root:Finished ETL job\n"
     ]
    }
   ],
   "source": [
    "run_etl(REFRESH_MODE)"
   ]
  }
 ],
 "metadata": {
  "kernelspec": {
   "display_name": "Python 3 (ipykernel)",
   "language": "python",
   "name": "python3"
  },
  "language_info": {
   "codemirror_mode": {
    "name": "ipython",
    "version": 3
   },
   "file_extension": ".py",
   "mimetype": "text/x-python",
   "name": "python",
   "nbconvert_exporter": "python",
   "pygments_lexer": "ipython3",
   "version": "3.11.6"
  }
 },
 "nbformat": 4,
 "nbformat_minor": 5
}
