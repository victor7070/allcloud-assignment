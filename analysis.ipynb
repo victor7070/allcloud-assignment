{
 "cells": [
  {
   "cell_type": "code",
   "execution_count": 1,
   "id": "17c75405-4a1a-4c7d-b65a-083677884028",
   "metadata": {},
   "outputs": [
    {
     "name": "stderr",
     "output_type": "stream",
     "text": [
      "INFO:root:Started the EXTRACT phase with etl_mode='refresh'\n",
      "INFO:root:Skipping downloading and unzipping as they are time-consuming\n",
      "INFO:root:Converting excel to csv with pandas\n",
      "INFO:root:Successfully converted file csv_path='data/base/online_retail_2024-10-16-19-55-34.csv'\n",
      "INFO:root:Finished the EXTRACT phase; Got a df with 541909 records \n",
      "\n"
     ]
    }
   ],
   "source": [
    "from shared import extract, clean_data, get_spark, transform_data, REFRESH_MODE\n",
    "\n",
    "etl_mode = REFRESH_MODE\n",
    "\n",
    "df = extract(etl_mode)"
   ]
  },
  {
   "cell_type": "code",
   "execution_count": 2,
   "id": "57aebd55-3a6e-4028-9cb8-0d03fa27f50b",
   "metadata": {},
   "outputs": [],
   "source": [
    "df = clean_data(df)"
   ]
  },
  {
   "cell_type": "code",
   "execution_count": 3,
   "id": "01500de5-b7a8-4b0d-a6f9-aed59c0ff47f",
   "metadata": {},
   "outputs": [
    {
     "name": "stdout",
     "output_type": "stream",
     "text": [
      "+----------+----------+--------------------+--------+-------------------+----------+-----------+--------------+\n",
      "|invoice_no|stock_code|         description|quantity|       invoice_date|unit_price|customer_id|       country|\n",
      "+----------+----------+--------------------+--------+-------------------+----------+-----------+--------------+\n",
      "|    536365|     21730|GLASS STAR FROSTE...|       6|2010-12-01 08:26:00|      4.25|      17850|United Kingdom|\n",
      "|    536365|     71053| WHITE METAL LANTERN|       6|2010-12-01 08:26:00|      3.39|      17850|United Kingdom|\n",
      "|    536366|     22632|HAND WARMER RED P...|       6|2010-12-01 08:28:00|      1.85|      17850|United Kingdom|\n",
      "|    536367|     22622|BOX OF VINTAGE AL...|       2|2010-12-01 08:34:00|      9.95|      13047|United Kingdom|\n",
      "|    536367|     22745|POPPY'S PLAYHOUSE...|       6|2010-12-01 08:34:00|       2.1|      13047|United Kingdom|\n",
      "|    536367|     22748|POPPY'S PLAYHOUSE...|       6|2010-12-01 08:34:00|       2.1|      13047|United Kingdom|\n",
      "|    536368|     22912|YELLOW COAT RACK ...|       3|2010-12-01 08:34:00|      4.95|      13047|United Kingdom|\n",
      "|    536370|     10002|INFLATABLE POLITI...|      48|2010-12-01 08:45:00|      0.85|      12583|        France|\n",
      "|    536370|     21791|VINTAGE HEADS AND...|      24|2010-12-01 08:45:00|      1.25|      12583|        France|\n",
      "|    536370|     21913|VINTAGE SEASIDE J...|      12|2010-12-01 08:45:00|      3.75|      12583|        France|\n",
      "|    536370|     22326|ROUND SNACK BOXES...|      24|2010-12-01 08:45:00|      2.95|      12583|        France|\n",
      "|    536370|     22631|CIRCUS PARADE LUN...|      24|2010-12-01 08:45:00|      1.95|      12583|        France|\n",
      "|    536370|     22726|ALARM CLOCK BAKEL...|      12|2010-12-01 08:45:00|      3.75|      12583|        France|\n",
      "|    536370|      POST|             POSTAGE|       3|2010-12-01 08:45:00|      18.0|      12583|        France|\n",
      "|    536372|     22633|HAND WARMER UNION...|       6|2010-12-01 09:01:00|      1.85|      17850|United Kingdom|\n",
      "|    536373|     37370|RETRO COFFEE MUGS...|       6|2010-12-01 09:02:00|      1.06|      17850|United Kingdom|\n",
      "|    536373|    82494L|WOODEN FRAME ANTI...|       6|2010-12-01 09:02:00|      2.55|      17850|United Kingdom|\n",
      "|    536373|    84029G|KNITTED UNION FLA...|       6|2010-12-01 09:02:00|      3.39|      17850|United Kingdom|\n",
      "|    536374|     21258|VICTORIAN SEWING ...|      32|2010-12-01 09:09:00|     10.95|      15100|United Kingdom|\n",
      "|    536375|     21071|VINTAGE BILLBOARD...|       6|2010-12-01 09:32:00|      1.06|      17850|United Kingdom|\n",
      "+----------+----------+--------------------+--------+-------------------+----------+-----------+--------------+\n",
      "only showing top 20 rows\n",
      "\n"
     ]
    }
   ],
   "source": [
    "spark = get_spark()\n",
    "df.createOrReplaceTempView(\"df\")\n",
    "df.show()"
   ]
  },
  {
   "cell_type": "code",
   "execution_count": 4,
   "id": "e50b38f2-f471-4938-8f40-586dc849978d",
   "metadata": {},
   "outputs": [
    {
     "name": "stdout",
     "output_type": "stream",
     "text": [
      "+-----------+-------------+\n",
      "|customer_id|total_revenue|\n",
      "+-----------+-------------+\n",
      "|      14646|    280206.02|\n",
      "|      18102|     259657.3|\n",
      "|      17450|    194390.79|\n",
      "|      16446|     168472.5|\n",
      "|      14911|    143711.17|\n",
      "|      12415|    124914.53|\n",
      "|      14156|    117210.08|\n",
      "|      17511|     91062.38|\n",
      "|      16029|     80850.84|\n",
      "|      12346|      77183.6|\n",
      "|      16684|     66653.56|\n",
      "|      14096|     65164.79|\n",
      "|      13694|     65039.62|\n",
      "|      15311|     60632.75|\n",
      "|      13089|     58762.08|\n",
      "|      17949|     58510.48|\n",
      "|      15769|     56252.72|\n",
      "|      15061|     54534.14|\n",
      "|      14298|      51527.3|\n",
      "|      14088|     50491.81|\n",
      "+-----------+-------------+\n",
      "only showing top 20 rows\n",
      "\n"
     ]
    }
   ],
   "source": [
    "# 1.2.a)\n",
    "spark.sql(\"\"\"\n",
    "select\n",
    "    customer_id,\n",
    "    ROUND(SUM(quantity * unit_price), 2) as total_revenue\n",
    "from df\n",
    "group by customer_id\n",
    "order by total_revenue desc\n",
    "limit 50\n",
    "\"\"\").show()"
   ]
  },
  {
   "cell_type": "code",
   "execution_count": 5,
   "id": "35eef79c-89cb-4087-a705-b502a95fb39b",
   "metadata": {},
   "outputs": [
    {
     "name": "stdout",
     "output_type": "stream",
     "text": [
      "+--------------------+----------+------------+---+\n",
      "|             country|stock_code|quantity_sum| rn|\n",
      "+--------------------+----------+------------+---+\n",
      "|      United Kingdom|     23843|       80995|  1|\n",
      "|         Netherlands|     23084|        4801|  1|\n",
      "|              France|     23084|        4000|  1|\n",
      "|               Japan|     23084|        3408|  1|\n",
      "|           Australia|     22492|        2952|  1|\n",
      "|              Sweden|     22492|        2916|  1|\n",
      "|                EIRE|     22197|        1828|  1|\n",
      "|             Germany|     22326|        1221|  1|\n",
      "|               Spain|    84997D|        1089|  1|\n",
      "|         Switzerland|     22554|         636|  1|\n",
      "|              Norway|     16008|         576|  1|\n",
      "|             Finland|    84997D|         552|  1|\n",
      "|              Canada|     37370|         504|  1|\n",
      "|             Belgium|     21212|         480|  1|\n",
      "|     Channel Islands|     21785|         407|  1|\n",
      "|              Cyprus|     22335|         384|  1|\n",
      "|           Singapore|     22339|         384|  1|\n",
      "|             Austria|     21918|         288|  1|\n",
      "|             Denmark|     21915|         288|  1|\n",
      "|             Iceland|     23076|         240|  1|\n",
      "|               Italy|    51014A|         240|  1|\n",
      "|            Portugal|     22740|         240|  1|\n",
      "|              Poland|     21232|         168|  1|\n",
      "|              Israel|     20719|         120|  1|\n",
      "|             Bahrain|     23076|          96|  1|\n",
      "|                 USA|     23366|          88|  1|\n",
      "|               Malta|     72741|          81|  1|\n",
      "|      Czech Republic|     22578|          72|  1|\n",
      "|United Arab Emirates|     85215|          72|  1|\n",
      "|              Greece|     21616|          48|  1|\n",
      "|           Lithuania|     22271|          48|  1|\n",
      "|         Unspecified|     23119|          36|  1|\n",
      "|              Brazil|     22697|          24|  1|\n",
      "|  European Community|     22572|          24|  1|\n",
      "|             Lebanon|     84929|          24|  1|\n",
      "|                 RSA|     22620|          12|  1|\n",
      "|        Saudi Arabia|     22915|          12|  1|\n",
      "+--------------------+----------+------------+---+\n",
      "\n"
     ]
    }
   ],
   "source": [
    "# 1.2.b)\n",
    "spark.sql(\"\"\"\n",
    "with country_rank as (\n",
    "select\n",
    "    country,\n",
    "    stock_code,\n",
    "    SUM(quantity) as quantity_sum,\n",
    "    ROW_NUMBER() OVER (PARTITION BY country ORDER BY SUM(quantity) DESC) as rn\n",
    "from df\n",
    "group by country, stock_code\n",
    ")\n",
    "select * from country_rank\n",
    "where rn = 1\n",
    "order by quantity_sum desc;\n",
    "\"\"\").show(40)"
   ]
  },
  {
   "cell_type": "code",
   "execution_count": 6,
   "id": "005fd31a-c0c7-4b91-b6c4-0ecaf63a6dd5",
   "metadata": {},
   "outputs": [
    {
     "name": "stdout",
     "output_type": "stream",
     "text": [
      "+----+-----+-------------+\n",
      "|year|month|total_revenue|\n",
      "+----+-----+-------------+\n",
      "|2010|   12|    570422.73|\n",
      "|2011|    1|    568101.31|\n",
      "|2011|    2|    446084.92|\n",
      "|2011|    3|    594081.76|\n",
      "|2011|    4|    468374.33|\n",
      "|2011|    5|     677340.3|\n",
      "|2011|    6|    660046.05|\n",
      "|2011|    7|     598962.9|\n",
      "|2011|    8|    644051.04|\n",
      "|2011|    9|     950686.3|\n",
      "|2011|   10|   1035642.45|\n",
      "|2011|   11|   1155668.61|\n",
      "|2011|   12|    517190.44|\n",
      "+----+-----+-------------+\n",
      "\n"
     ]
    }
   ],
   "source": [
    "# 1.2.c)\n",
    "spark.sql(\"\"\"\n",
    "select\n",
    "    YEAR(invoice_date) as year,\n",
    "    MONTH(invoice_date) as month,\n",
    "    ROUND(SUM(quantity * unit_price), 2) as total_revenue\n",
    "    -- min(invoice_date), max(invoice_date)\n",
    "from df\n",
    "group by year, month\n",
    "order by year, month\n",
    "\"\"\").show(40)"
   ]
  },
  {
   "cell_type": "code",
   "execution_count": 7,
   "id": "c8a5cd02-0c5e-4066-8c9e-b9fe586a632c",
   "metadata": {},
   "outputs": [],
   "source": [
    "df = transform_data(df)\n",
    "df.createOrReplaceTempView(\"df\")"
   ]
  },
  {
   "cell_type": "code",
   "execution_count": 8,
   "id": "14357590-1b2c-4ba5-b593-a84273a336ee",
   "metadata": {},
   "outputs": [
    {
     "name": "stdout",
     "output_type": "stream",
     "text": [
      "+-----------+----------+-----------+-------------+\n",
      "|customer_id|order_year|order_month|monthly_total|\n",
      "+-----------+----------+-----------+-------------+\n",
      "|      13001|      2011|          2|      2098.95|\n",
      "|      15529|      2011|          4|       198.91|\n",
      "|      17706|      2010|         12|       477.83|\n",
      "|      12621|      2010|         12|      1383.65|\n",
      "|      16843|      2011|          2|       1240.4|\n",
      "|      13854|      2011|          3|       927.18|\n",
      "|      15159|      2010|         12|      1860.98|\n",
      "|      13873|      2011|          2|       121.45|\n",
      "|      14709|      2010|         12|        314.1|\n",
      "|      16767|      2011|          1|      1866.02|\n",
      "|      14897|      2011|          2|        175.5|\n",
      "|      12754|      2011|          3|        16.05|\n",
      "|      13327|      2010|         12|        745.0|\n",
      "|      17961|      2011|          3|        64.82|\n",
      "|      16764|      2011|          8|       172.42|\n",
      "|      14442|      2011|          5|       914.24|\n",
      "|      13225|      2011|          5|        537.0|\n",
      "|      13379|      2011|          7|       136.29|\n",
      "|      18079|      2011|          4|      1612.83|\n",
      "|      13139|      2011|          5|       760.52|\n",
      "+-----------+----------+-----------+-------------+\n",
      "only showing top 20 rows\n",
      "\n"
     ]
    }
   ],
   "source": [
    "# 2.1.c)\n",
    "spark.sql(\"\"\"\n",
    "select\n",
    "    customer_id,\n",
    "    order_year,\n",
    "    order_month,\n",
    "    ROUND(SUM(total_amount), 2) as monthly_total\n",
    "from df\n",
    "group by customer_id, order_year, order_month\n",
    "\"\"\").show()"
   ]
  }
 ],
 "metadata": {
  "kernelspec": {
   "display_name": "Python 3 (ipykernel)",
   "language": "python",
   "name": "python3"
  },
  "language_info": {
   "codemirror_mode": {
    "name": "ipython",
    "version": 3
   },
   "file_extension": ".py",
   "mimetype": "text/x-python",
   "name": "python",
   "nbconvert_exporter": "python",
   "pygments_lexer": "ipython3",
   "version": "3.11.6"
  }
 },
 "nbformat": 4,
 "nbformat_minor": 5
}
